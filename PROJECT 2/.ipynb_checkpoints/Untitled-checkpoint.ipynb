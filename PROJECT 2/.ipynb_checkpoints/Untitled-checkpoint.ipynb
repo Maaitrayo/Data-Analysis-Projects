{
 "cells": [
  {
   "cell_type": "markdown",
   "id": "7a2dd582",
   "metadata": {},
   "source": [
    "# Project - 2, Cars Dataset\n",
    "## Problem Statement \n",
    "### Q. 1) Instruction ( For Data Cleaning ) - Find all Null Values in the dataset. If there is any null value in any column, then fill it with the mean of that column.\n",
    "\n",
    "### Q.2) Question ( Based on Value Counts )- Check what are the different types of Make are there in our dataset. And, what is the count (occurrence) of each Make in the data ?\n",
    "\n",
    "### Q. 3) Instruction ( Filtering ) - Show all the records where Origin is Asia or Europe.\n",
    "\n",
    "### Q. 4) Instruction ( Removing unwanted records ) - Remove all the records (rows) where Weight is above 4000.\n",
    "\n",
    "### Q. 5) Instruction ( Applying function on a column ) - Increase all the values of 'MPG_City' column by 3."
   ]
  },
  {
   "cell_type": "code",
   "execution_count": 1,
   "id": "e0580831",
   "metadata": {},
   "outputs": [],
   "source": [
    "import pandas as pd"
   ]
  },
  {
   "cell_type": "code",
   "execution_count": null,
   "id": "3f6b0a00",
   "metadata": {},
   "outputs": [],
   "source": []
  }
 ],
 "metadata": {
  "kernelspec": {
   "display_name": "Python 3",
   "language": "python",
   "name": "python3"
  },
  "language_info": {
   "codemirror_mode": {
    "name": "ipython",
    "version": 3
   },
   "file_extension": ".py",
   "mimetype": "text/x-python",
   "name": "python",
   "nbconvert_exporter": "python",
   "pygments_lexer": "ipython3",
   "version": "3.9.4"
  }
 },
 "nbformat": 4,
 "nbformat_minor": 5
}
